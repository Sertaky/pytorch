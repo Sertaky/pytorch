{
  "nbformat": 4,
  "nbformat_minor": 0,
  "metadata": {
    "colab": {
      "provenance": []
    },
    "kernelspec": {
      "name": "python3",
      "display_name": "Python 3"
    },
    "language_info": {
      "name": "python"
    },
    "gpuClass": "standard",
    "accelerator": "GPU"
  },
  "cells": [
    {
      "cell_type": "code",
      "source": [
        "import torch \n",
        "import numpy as np\n",
        "import pandas as pd\n",
        "import matplotlib.pyplot as plt\n",
        "print (torch.__version__)"
      ],
      "metadata": {
        "colab": {
          "base_uri": "https://localhost:8080/"
        },
        "id": "zWGqsYZn2yUu",
        "outputId": "ccfcc30c-fe37-4736-ab1a-8c6d21ebf11c"
      },
      "execution_count": null,
      "outputs": [
        {
          "output_type": "stream",
          "name": "stdout",
          "text": [
            "1.13.1+cu116\n"
          ]
        }
      ]
    },
    {
      "cell_type": "markdown",
      "source": [
        "### Introduction to Tensors \n",
        "\n",
        " creating tensors "
      ],
      "metadata": {
        "id": "mNz8aK4f7fhw"
      }
    },
    {
      "cell_type": "code",
      "source": [
        "# scaler \n",
        "scaler = torch.tensor(7)\n",
        "scaler"
      ],
      "metadata": {
        "id": "_ztw7rX73quq",
        "colab": {
          "base_uri": "https://localhost:8080/"
        },
        "outputId": "11e5a272-e740-4238-98aa-c8d5c388bcaf"
      },
      "execution_count": null,
      "outputs": [
        {
          "output_type": "execute_result",
          "data": {
            "text/plain": [
              "tensor(7)"
            ]
          },
          "metadata": {},
          "execution_count": 2
        }
      ]
    },
    {
      "cell_type": "code",
      "source": [
        "scaler.ndim"
      ],
      "metadata": {
        "colab": {
          "base_uri": "https://localhost:8080/"
        },
        "id": "jsxLCgKU75Kh",
        "outputId": "004d2178-7bc3-4cfa-a974-e0a28760a250"
      },
      "execution_count": null,
      "outputs": [
        {
          "output_type": "execute_result",
          "data": {
            "text/plain": [
              "0"
            ]
          },
          "metadata": {},
          "execution_count": 3
        }
      ]
    },
    {
      "cell_type": "code",
      "source": [
        "# get tensor back as python int()\n",
        "scaler.item()"
      ],
      "metadata": {
        "colab": {
          "base_uri": "https://localhost:8080/"
        },
        "id": "X1yQZyXn8Mtm",
        "outputId": "4c600275-8a0a-472a-df7d-a75f2d27a6da"
      },
      "execution_count": null,
      "outputs": [
        {
          "output_type": "execute_result",
          "data": {
            "text/plain": [
              "7"
            ]
          },
          "metadata": {},
          "execution_count": 4
        }
      ]
    },
    {
      "cell_type": "code",
      "source": [
        "# vector \n",
        "vector = torch.tensor([7,7])\n",
        "vector"
      ],
      "metadata": {
        "colab": {
          "base_uri": "https://localhost:8080/"
        },
        "id": "qo-R5GaE8pf9",
        "outputId": "b45a786d-0871-49cc-eac0-98eb9714601b"
      },
      "execution_count": null,
      "outputs": [
        {
          "output_type": "execute_result",
          "data": {
            "text/plain": [
              "tensor([7, 7])"
            ]
          },
          "metadata": {},
          "execution_count": 5
        }
      ]
    },
    {
      "cell_type": "code",
      "source": [
        "vector.ndim"
      ],
      "metadata": {
        "colab": {
          "base_uri": "https://localhost:8080/"
        },
        "id": "ljUAyw5X-TF3",
        "outputId": "9553fffc-46b4-46ba-8faa-13d939d6ad2f"
      },
      "execution_count": null,
      "outputs": [
        {
          "output_type": "execute_result",
          "data": {
            "text/plain": [
              "1"
            ]
          },
          "metadata": {},
          "execution_count": 6
        }
      ]
    },
    {
      "cell_type": "code",
      "source": [
        "vector.shape"
      ],
      "metadata": {
        "colab": {
          "base_uri": "https://localhost:8080/"
        },
        "id": "z95mjgZa-9Ni",
        "outputId": "d2184aeb-d95d-49ab-83a9-a2bbd951e9ff"
      },
      "execution_count": null,
      "outputs": [
        {
          "output_type": "execute_result",
          "data": {
            "text/plain": [
              "torch.Size([2])"
            ]
          },
          "metadata": {},
          "execution_count": 7
        }
      ]
    },
    {
      "cell_type": "code",
      "source": [
        "# MATRIX\n",
        "MATRIX = torch.tensor([[7,8],\n",
        "                      [9,10]])\n",
        "MATRIX"
      ],
      "metadata": {
        "colab": {
          "base_uri": "https://localhost:8080/"
        },
        "id": "vNmpS2hN_ED5",
        "outputId": "11530ad7-1a8e-49cd-a048-9235e0748c58"
      },
      "execution_count": null,
      "outputs": [
        {
          "output_type": "execute_result",
          "data": {
            "text/plain": [
              "tensor([[ 7,  8],\n",
              "        [ 9, 10]])"
            ]
          },
          "metadata": {},
          "execution_count": 8
        }
      ]
    },
    {
      "cell_type": "code",
      "source": [
        "MATRIX.ndim"
      ],
      "metadata": {
        "colab": {
          "base_uri": "https://localhost:8080/"
        },
        "id": "72eTi-1w_f3O",
        "outputId": "afc6cd99-009d-4f35-e9c6-3f5dfbaa035a"
      },
      "execution_count": null,
      "outputs": [
        {
          "output_type": "execute_result",
          "data": {
            "text/plain": [
              "2"
            ]
          },
          "metadata": {},
          "execution_count": 9
        }
      ]
    },
    {
      "cell_type": "code",
      "source": [
        "MATRIX.shape"
      ],
      "metadata": {
        "colab": {
          "base_uri": "https://localhost:8080/"
        },
        "id": "xo6bMnLf_16c",
        "outputId": "6c1df04c-0207-4870-ac0f-7059992acf92"
      },
      "execution_count": null,
      "outputs": [
        {
          "output_type": "execute_result",
          "data": {
            "text/plain": [
              "torch.Size([2, 2])"
            ]
          },
          "metadata": {},
          "execution_count": 10
        }
      ]
    },
    {
      "cell_type": "code",
      "source": [
        "MATRIX[0]"
      ],
      "metadata": {
        "colab": {
          "base_uri": "https://localhost:8080/"
        },
        "id": "oSTc-F6U_79o",
        "outputId": "071fa317-fbde-4859-f284-59e6aa1629f6"
      },
      "execution_count": null,
      "outputs": [
        {
          "output_type": "execute_result",
          "data": {
            "text/plain": [
              "tensor([7, 8])"
            ]
          },
          "metadata": {},
          "execution_count": 11
        }
      ]
    },
    {
      "cell_type": "code",
      "source": [
        "MATRIX[1]"
      ],
      "metadata": {
        "colab": {
          "base_uri": "https://localhost:8080/"
        },
        "id": "LPuRtg0CAQ0g",
        "outputId": "2f6e40cb-65ba-423b-dd2f-507ab624bc6f"
      },
      "execution_count": null,
      "outputs": [
        {
          "output_type": "execute_result",
          "data": {
            "text/plain": [
              "tensor([ 9, 10])"
            ]
          },
          "metadata": {},
          "execution_count": 12
        }
      ]
    },
    {
      "cell_type": "code",
      "source": [
        "# Tensor \n",
        "TENSOR = torch.tensor([[[1,2,3],\n",
        "                        [3,4,5],\n",
        "                        [2,4,6]]])\n",
        "TENSOR"
      ],
      "metadata": {
        "colab": {
          "base_uri": "https://localhost:8080/"
        },
        "id": "oxS71HcuASyT",
        "outputId": "ff2a6a37-96a3-47d4-fa89-94eab4c89d23"
      },
      "execution_count": null,
      "outputs": [
        {
          "output_type": "execute_result",
          "data": {
            "text/plain": [
              "tensor([[[1, 2, 3],\n",
              "         [3, 4, 5],\n",
              "         [2, 4, 6]]])"
            ]
          },
          "metadata": {},
          "execution_count": 13
        }
      ]
    },
    {
      "cell_type": "code",
      "source": [
        "TENSOR.ndim"
      ],
      "metadata": {
        "colab": {
          "base_uri": "https://localhost:8080/"
        },
        "id": "4LXzpiwIHt-S",
        "outputId": "bcd1297e-f58d-4fb7-d4c3-52ad1fc32c56"
      },
      "execution_count": null,
      "outputs": [
        {
          "output_type": "execute_result",
          "data": {
            "text/plain": [
              "3"
            ]
          },
          "metadata": {},
          "execution_count": 14
        }
      ]
    },
    {
      "cell_type": "code",
      "source": [
        "TENSOR.shape"
      ],
      "metadata": {
        "colab": {
          "base_uri": "https://localhost:8080/"
        },
        "id": "0qgkG-q1HwFP",
        "outputId": "34d68662-0bd8-40a9-f11e-408ff806c8eb"
      },
      "execution_count": null,
      "outputs": [
        {
          "output_type": "execute_result",
          "data": {
            "text/plain": [
              "torch.Size([1, 3, 3])"
            ]
          },
          "metadata": {},
          "execution_count": 15
        }
      ]
    },
    {
      "cell_type": "markdown",
      "source": [
        "### Random tensor\n",
        "\n",
        "why random tensors ?\n",
        "Random tensors are important because the way many neural network learn is that they start with tensors full of random numbers and then adjust those random numbers to better represent the data \n",
        "\n",
        "` Start with random numbers -> look at data -> update random numbers -> look at data -> update random numbers `"
      ],
      "metadata": {
        "id": "jh-HJ6L4JC7W"
      }
    },
    {
      "cell_type": "code",
      "source": [
        "# create a random tensors of size (3,4)\n",
        "random_tensor = torch.rand(3,4)\n",
        "random_tensor"
      ],
      "metadata": {
        "colab": {
          "base_uri": "https://localhost:8080/"
        },
        "id": "SsFzWtu8HyZp",
        "outputId": "1cc72918-bb3a-4281-bc3d-014bf851ebbf"
      },
      "execution_count": null,
      "outputs": [
        {
          "output_type": "execute_result",
          "data": {
            "text/plain": [
              "tensor([[0.8520, 0.8340, 0.5456, 0.3055],\n",
              "        [0.0675, 0.0773, 0.9764, 0.4169],\n",
              "        [0.7082, 0.0865, 0.9749, 0.7708]])"
            ]
          },
          "metadata": {},
          "execution_count": 16
        }
      ]
    },
    {
      "cell_type": "code",
      "source": [
        "random_tensor.ndim"
      ],
      "metadata": {
        "colab": {
          "base_uri": "https://localhost:8080/"
        },
        "id": "6UVPYKuHKVTP",
        "outputId": "bff20616-57e0-4eca-b4eb-9db25486662f"
      },
      "execution_count": null,
      "outputs": [
        {
          "output_type": "execute_result",
          "data": {
            "text/plain": [
              "2"
            ]
          },
          "metadata": {},
          "execution_count": 17
        }
      ]
    },
    {
      "cell_type": "code",
      "source": [
        "random_tensor.shape"
      ],
      "metadata": {
        "colab": {
          "base_uri": "https://localhost:8080/"
        },
        "id": "UNJm6GEwKaWb",
        "outputId": "69b68b91-a026-4711-e488-76912a4216d9"
      },
      "execution_count": null,
      "outputs": [
        {
          "output_type": "execute_result",
          "data": {
            "text/plain": [
              "torch.Size([3, 4])"
            ]
          },
          "metadata": {},
          "execution_count": 18
        }
      ]
    },
    {
      "cell_type": "code",
      "source": [
        "random_tensor1 = torch.rand(1 , 10 , 10)\n",
        "random_tensor1"
      ],
      "metadata": {
        "colab": {
          "base_uri": "https://localhost:8080/"
        },
        "id": "8NtWrgITKcrS",
        "outputId": "3f8c0856-b09b-483c-acfb-0526a0b3c929"
      },
      "execution_count": null,
      "outputs": [
        {
          "output_type": "execute_result",
          "data": {
            "text/plain": [
              "tensor([[[0.3391, 0.5470, 0.2832, 0.2370, 0.6526, 0.2134, 0.3133, 0.3784,\n",
              "          0.5704, 0.0906],\n",
              "         [0.2803, 0.6701, 0.7868, 0.0740, 0.0329, 0.2471, 0.9283, 0.2544,\n",
              "          0.7862, 0.7367],\n",
              "         [0.0877, 0.8143, 0.0233, 0.0743, 0.1808, 0.3418, 0.6109, 0.4893,\n",
              "          0.4227, 0.7795],\n",
              "         [0.3851, 0.5026, 0.3997, 0.2385, 0.4382, 0.5118, 0.2576, 0.6166,\n",
              "          0.4429, 0.2235],\n",
              "         [0.8016, 0.8080, 0.6194, 0.4933, 0.1935, 0.7261, 0.1421, 0.0663,\n",
              "          0.4665, 0.6954],\n",
              "         [0.3673, 0.5684, 0.9650, 0.7093, 0.7174, 0.8588, 0.8178, 0.9460,\n",
              "          0.2712, 0.1066],\n",
              "         [0.0440, 0.2613, 0.6642, 0.5667, 0.1617, 0.7744, 0.3881, 0.7411,\n",
              "          0.2503, 0.2904],\n",
              "         [0.6164, 0.1671, 0.0438, 0.9134, 0.0479, 0.0162, 0.6713, 0.8267,\n",
              "          0.5177, 0.2557],\n",
              "         [0.1473, 0.7620, 0.6114, 0.8994, 0.3927, 0.4125, 0.3422, 0.0707,\n",
              "          0.4254, 0.4316],\n",
              "         [0.5993, 0.2146, 0.3923, 0.3780, 0.7787, 0.6571, 0.4258, 0.6017,\n",
              "          0.3105, 0.1082]]])"
            ]
          },
          "metadata": {},
          "execution_count": 19
        }
      ]
    },
    {
      "cell_type": "code",
      "source": [
        "random_tensor1.ndim"
      ],
      "metadata": {
        "colab": {
          "base_uri": "https://localhost:8080/"
        },
        "id": "jepBUMwxKvxp",
        "outputId": "48f0161a-0f0f-45f1-b8fc-d7334ad929b8"
      },
      "execution_count": null,
      "outputs": [
        {
          "output_type": "execute_result",
          "data": {
            "text/plain": [
              "3"
            ]
          },
          "metadata": {},
          "execution_count": 20
        }
      ]
    },
    {
      "cell_type": "code",
      "source": [
        "random_tensor1.shape"
      ],
      "metadata": {
        "colab": {
          "base_uri": "https://localhost:8080/"
        },
        "id": "hKXkSTTPK07Z",
        "outputId": "c3a92449-9a83-46cd-95db-3783ac76e5d1"
      },
      "execution_count": null,
      "outputs": [
        {
          "output_type": "execute_result",
          "data": {
            "text/plain": [
              "torch.Size([1, 10, 10])"
            ]
          },
          "metadata": {},
          "execution_count": 21
        }
      ]
    },
    {
      "cell_type": "code",
      "source": [
        "# create a random tensor with similar shape to an image tensor \n",
        "random_image_size_tensor = torch.rand(size = (224,224,3)) # height # width #colour channels (R,G,B)\n",
        "random_image_size_tensor.shape , random_image_size_tensor.ndim"
      ],
      "metadata": {
        "colab": {
          "base_uri": "https://localhost:8080/"
        },
        "id": "b661YYH-K4LM",
        "outputId": "fce7fe79-5a16-4ddc-f01e-80d7e8e9c51f"
      },
      "execution_count": null,
      "outputs": [
        {
          "output_type": "execute_result",
          "data": {
            "text/plain": [
              "(torch.Size([224, 224, 3]), 3)"
            ]
          },
          "metadata": {},
          "execution_count": 22
        }
      ]
    },
    {
      "cell_type": "markdown",
      "source": [
        "### Zeros and Ones "
      ],
      "metadata": {
        "id": "pWAwg4nOMX38"
      }
    },
    {
      "cell_type": "code",
      "source": [
        "# create a tensor of all zeros \n",
        "zero = torch.zeros(size=(3,4))\n",
        "zero"
      ],
      "metadata": {
        "colab": {
          "base_uri": "https://localhost:8080/"
        },
        "id": "BpEGj4GILqTL",
        "outputId": "eff1565e-bab1-49b6-98d9-76b6c257fe4b"
      },
      "execution_count": null,
      "outputs": [
        {
          "output_type": "execute_result",
          "data": {
            "text/plain": [
              "tensor([[0., 0., 0., 0.],\n",
              "        [0., 0., 0., 0.],\n",
              "        [0., 0., 0., 0.]])"
            ]
          },
          "metadata": {},
          "execution_count": 23
        }
      ]
    },
    {
      "cell_type": "code",
      "source": [
        "# create a tensor full of ones \n",
        "ones = torch.ones(size=(4,3))\n",
        "ones"
      ],
      "metadata": {
        "colab": {
          "base_uri": "https://localhost:8080/"
        },
        "id": "B4SXRMuvMoXT",
        "outputId": "f4d9972e-66e4-4b17-bc1f-811f1bc89d96"
      },
      "execution_count": null,
      "outputs": [
        {
          "output_type": "execute_result",
          "data": {
            "text/plain": [
              "tensor([[1., 1., 1.],\n",
              "        [1., 1., 1.],\n",
              "        [1., 1., 1.],\n",
              "        [1., 1., 1.]])"
            ]
          },
          "metadata": {},
          "execution_count": 24
        }
      ]
    },
    {
      "cell_type": "code",
      "source": [
        "ones.dtype"
      ],
      "metadata": {
        "colab": {
          "base_uri": "https://localhost:8080/"
        },
        "id": "nI3VAT0aMxMK",
        "outputId": "59e17f3e-52bc-425e-ce68-33f3ce5328ca"
      },
      "execution_count": null,
      "outputs": [
        {
          "output_type": "execute_result",
          "data": {
            "text/plain": [
              "torch.float32"
            ]
          },
          "metadata": {},
          "execution_count": 25
        }
      ]
    },
    {
      "cell_type": "markdown",
      "source": [
        "### Create a range of tensors and tensors-like"
      ],
      "metadata": {
        "id": "5TSW7s-ONG9Y"
      }
    },
    {
      "cell_type": "code",
      "source": [
        "# use torch.range()\n",
        "torch.range(0,10)"
      ],
      "metadata": {
        "colab": {
          "base_uri": "https://localhost:8080/"
        },
        "id": "iCPex3lqM4ek",
        "outputId": "0c3dc15b-7dba-483c-ac40-6c3fcc1e811e"
      },
      "execution_count": null,
      "outputs": [
        {
          "output_type": "stream",
          "name": "stderr",
          "text": [
            "<ipython-input-26-b4dcebb93dee>:2: UserWarning: torch.range is deprecated and will be removed in a future release because its behavior is inconsistent with Python's range builtin. Instead, use torch.arange, which produces values in [start, end).\n",
            "  torch.range(0,10)\n"
          ]
        },
        {
          "output_type": "execute_result",
          "data": {
            "text/plain": [
              "tensor([ 0.,  1.,  2.,  3.,  4.,  5.,  6.,  7.,  8.,  9., 10.])"
            ]
          },
          "metadata": {},
          "execution_count": 26
        }
      ]
    },
    {
      "cell_type": "code",
      "source": [
        "torch.arange(0,10)"
      ],
      "metadata": {
        "colab": {
          "base_uri": "https://localhost:8080/"
        },
        "id": "kGVN6-4dNT8b",
        "outputId": "6f770e4c-f93d-461c-9bf4-d92c95517b22"
      },
      "execution_count": null,
      "outputs": [
        {
          "output_type": "execute_result",
          "data": {
            "text/plain": [
              "tensor([0, 1, 2, 3, 4, 5, 6, 7, 8, 9])"
            ]
          },
          "metadata": {},
          "execution_count": 27
        }
      ]
    },
    {
      "cell_type": "code",
      "source": [
        "one_to_ten = torch.arange(start=1,end=11,step=1)\n",
        "one_to_ten"
      ],
      "metadata": {
        "colab": {
          "base_uri": "https://localhost:8080/"
        },
        "id": "87DJD8faNh6i",
        "outputId": "e32980bf-61c3-4510-b371-cbdb7c6379a2"
      },
      "execution_count": null,
      "outputs": [
        {
          "output_type": "execute_result",
          "data": {
            "text/plain": [
              "tensor([ 1,  2,  3,  4,  5,  6,  7,  8,  9, 10])"
            ]
          },
          "metadata": {},
          "execution_count": 28
        }
      ]
    },
    {
      "cell_type": "code",
      "source": [
        "# creating tensors like   # (to create tensor same shape as other tensor )\n",
        "ten_zeros = torch.zeros_like(input =one_to_ten)\n",
        "ten_zeros"
      ],
      "metadata": {
        "id": "ged9fgTDN_ky",
        "colab": {
          "base_uri": "https://localhost:8080/"
        },
        "outputId": "3e05fdf6-37ed-4296-fadf-1d430ae4eaa9"
      },
      "execution_count": null,
      "outputs": [
        {
          "output_type": "execute_result",
          "data": {
            "text/plain": [
              "tensor([0, 0, 0, 0, 0, 0, 0, 0, 0, 0])"
            ]
          },
          "metadata": {},
          "execution_count": 29
        }
      ]
    },
    {
      "cell_type": "markdown",
      "source": [
        "### Tensor datatypes\n",
        "\n",
        "**Note**: Tensor datatypes is one of the 3 big issues (errors) with PyTorch & deep learning :      \n",
        "1. Tensors not right datatype \n",
        "2. tensors not right shape \n",
        "3. tensors not on the right device "
      ],
      "metadata": {
        "id": "06bmGUrjkxpT"
      }
    },
    {
      "cell_type": "code",
      "source": [
        "# float 32 tensor\n",
        "float_32_tensor = torch.tensor([3.0,6.0,9.0],\n",
        "                               dtype=None,   # what datatype is the tensor(float 64,32 ,16 ,...)\n",
        "                               device=None,  # what device your tensor on (cpu , cuda ...)\n",
        "                               requires_grad=False)   # whether or not to track gradients with this tensors operations \n",
        "float_32_tensor"
      ],
      "metadata": {
        "colab": {
          "base_uri": "https://localhost:8080/"
        },
        "id": "akY7FWwokZJM",
        "outputId": "60e18ebc-523c-4674-bd08-0b2dcd9f11df"
      },
      "execution_count": null,
      "outputs": [
        {
          "output_type": "execute_result",
          "data": {
            "text/plain": [
              "tensor([3., 6., 9.])"
            ]
          },
          "metadata": {},
          "execution_count": 30
        }
      ]
    },
    {
      "cell_type": "code",
      "source": [
        "float_32_tensor.dtype"
      ],
      "metadata": {
        "colab": {
          "base_uri": "https://localhost:8080/"
        },
        "id": "VbG0Frc0lH_I",
        "outputId": "b06fda73-8801-4d30-9902-0c6d47637997"
      },
      "execution_count": null,
      "outputs": [
        {
          "output_type": "execute_result",
          "data": {
            "text/plain": [
              "torch.float32"
            ]
          },
          "metadata": {},
          "execution_count": 31
        }
      ]
    },
    {
      "cell_type": "code",
      "source": [
        "float_16_tensor = float_32_tensor.type(torch.float16)\n",
        "float_16_tensor"
      ],
      "metadata": {
        "colab": {
          "base_uri": "https://localhost:8080/"
        },
        "id": "oVBIohRXlQZq",
        "outputId": "9ef10522-9d36-4d3a-83f4-3b8821c3490a"
      },
      "execution_count": null,
      "outputs": [
        {
          "output_type": "execute_result",
          "data": {
            "text/plain": [
              "tensor([3., 6., 9.], dtype=torch.float16)"
            ]
          },
          "metadata": {},
          "execution_count": 32
        }
      ]
    },
    {
      "cell_type": "code",
      "source": [
        "float_16_tensor * float_32_tensor"
      ],
      "metadata": {
        "colab": {
          "base_uri": "https://localhost:8080/"
        },
        "id": "K1Cfue1foTpM",
        "outputId": "a3edfac8-44cd-44e2-b4a9-5c4d115c63ae"
      },
      "execution_count": null,
      "outputs": [
        {
          "output_type": "execute_result",
          "data": {
            "text/plain": [
              "tensor([ 9., 36., 81.])"
            ]
          },
          "metadata": {},
          "execution_count": 33
        }
      ]
    },
    {
      "cell_type": "code",
      "source": [
        "int_32_tensor = torch.tensor([3,8,6],dtype=torch.int32)\n",
        "int_32_tensor"
      ],
      "metadata": {
        "colab": {
          "base_uri": "https://localhost:8080/"
        },
        "id": "5SDy_yFfoso2",
        "outputId": "5a02de8e-9f0c-4c4b-d43d-c441adca9ad5"
      },
      "execution_count": null,
      "outputs": [
        {
          "output_type": "execute_result",
          "data": {
            "text/plain": [
              "tensor([3, 8, 6], dtype=torch.int32)"
            ]
          },
          "metadata": {},
          "execution_count": 34
        }
      ]
    },
    {
      "cell_type": "code",
      "source": [
        "float_32_tensor * int_32_tensor"
      ],
      "metadata": {
        "colab": {
          "base_uri": "https://localhost:8080/"
        },
        "id": "G3H5xtRrpYTm",
        "outputId": "5d83c845-d162-4cff-da6d-c72edd213d26"
      },
      "execution_count": null,
      "outputs": [
        {
          "output_type": "execute_result",
          "data": {
            "text/plain": [
              "tensor([ 9., 48., 54.])"
            ]
          },
          "metadata": {},
          "execution_count": 35
        }
      ]
    },
    {
      "cell_type": "markdown",
      "source": [
        "### Getting information from tensors (tensor attributes)\n",
        "1. shape - what shape is the tensor? (some operations require specific shape rules) `tensor.shape`\n",
        "2. dtype - what datatype are the elements within the tensor stored in? `tensor.dtybe`\n",
        "3. device - what device is the tensor stored on? (usually GPU or CPU) `tensor.device`"
      ],
      "metadata": {
        "id": "lqBbJQWDqGEY"
      }
    },
    {
      "cell_type": "code",
      "source": [
        "# create a tensor \n",
        "some_tensor = torch.rand(3,4)\n",
        "some_tensor"
      ],
      "metadata": {
        "colab": {
          "base_uri": "https://localhost:8080/"
        },
        "id": "x97-zEBNpcVB",
        "outputId": "a1338eed-425e-40e9-eacd-52b2d9cd4233"
      },
      "execution_count": null,
      "outputs": [
        {
          "output_type": "execute_result",
          "data": {
            "text/plain": [
              "tensor([[0.8687, 0.4152, 0.7592, 0.7376],\n",
              "        [0.4431, 0.7215, 0.5146, 0.4186],\n",
              "        [0.5035, 0.8621, 0.6614, 0.3425]])"
            ]
          },
          "metadata": {},
          "execution_count": 36
        }
      ]
    },
    {
      "cell_type": "code",
      "source": [
        "some_tensor.size()"
      ],
      "metadata": {
        "colab": {
          "base_uri": "https://localhost:8080/"
        },
        "id": "t1uK4N0rrGaX",
        "outputId": "5e891475-e9d1-4bb7-e4a4-6260ec2568a4"
      },
      "execution_count": null,
      "outputs": [
        {
          "output_type": "execute_result",
          "data": {
            "text/plain": [
              "torch.Size([3, 4])"
            ]
          },
          "metadata": {},
          "execution_count": 37
        }
      ]
    },
    {
      "cell_type": "code",
      "source": [
        "some_tensor.shape"
      ],
      "metadata": {
        "colab": {
          "base_uri": "https://localhost:8080/"
        },
        "id": "udcUp2D8rMNj",
        "outputId": "ecd4dbe6-0eb3-4b26-9e40-43eeca6332ec"
      },
      "execution_count": null,
      "outputs": [
        {
          "output_type": "execute_result",
          "data": {
            "text/plain": [
              "torch.Size([3, 4])"
            ]
          },
          "metadata": {},
          "execution_count": 38
        }
      ]
    },
    {
      "cell_type": "code",
      "source": [
        "# find out details about some tensor \n",
        "print(some_tensor)\n",
        "print(f'Datatype of tensor: {some_tensor.dtype}')\n",
        "print(f'shape of tensor : {some_tensor.shape}')\n",
        "print(f'Device tensor is on : {some_tensor.device}')"
      ],
      "metadata": {
        "colab": {
          "base_uri": "https://localhost:8080/"
        },
        "id": "_Tan9y8yqudk",
        "outputId": "dba7b47e-46ce-4f0b-ce75-fae63d0bc681"
      },
      "execution_count": null,
      "outputs": [
        {
          "output_type": "stream",
          "name": "stdout",
          "text": [
            "tensor([[0.8687, 0.4152, 0.7592, 0.7376],\n",
            "        [0.4431, 0.7215, 0.5146, 0.4186],\n",
            "        [0.5035, 0.8621, 0.6614, 0.3425]])\n",
            "Datatype of tensor: torch.float32\n",
            "shape of tensor : torch.Size([3, 4])\n",
            "Device tensor is on : cpu\n"
          ]
        }
      ]
    },
    {
      "cell_type": "markdown",
      "source": [
        "### Manipulating tensors (tensor operations)\n",
        "\n",
        "* Addition\n",
        "* Substraction\n",
        "* Multiplication (element-wise)\n",
        "* Division\n",
        "* Matrix multiplication"
      ],
      "metadata": {
        "id": "4ESHaR3-siNJ"
      }
    },
    {
      "cell_type": "code",
      "source": [
        "# create a tensor and add 10 to it \n",
        "tensor = torch.tensor([1,2,3])\n",
        "tensor + 10"
      ],
      "metadata": {
        "colab": {
          "base_uri": "https://localhost:8080/"
        },
        "id": "lhQabZbTr6EA",
        "outputId": "4832f7c3-508f-4378-c459-102e3cc6334f"
      },
      "execution_count": null,
      "outputs": [
        {
          "output_type": "execute_result",
          "data": {
            "text/plain": [
              "tensor([11, 12, 13])"
            ]
          },
          "metadata": {},
          "execution_count": 40
        }
      ]
    },
    {
      "cell_type": "code",
      "source": [
        "# Multiply tensor by 10\n",
        "tensor * 10"
      ],
      "metadata": {
        "colab": {
          "base_uri": "https://localhost:8080/"
        },
        "id": "rVNQDvQ0r5wN",
        "outputId": "da5298a2-c685-48fa-c8df-bb13d4a73bb7"
      },
      "execution_count": null,
      "outputs": [
        {
          "output_type": "execute_result",
          "data": {
            "text/plain": [
              "tensor([10, 20, 30])"
            ]
          },
          "metadata": {},
          "execution_count": 41
        }
      ]
    },
    {
      "cell_type": "code",
      "source": [
        "tensor "
      ],
      "metadata": {
        "colab": {
          "base_uri": "https://localhost:8080/"
        },
        "id": "1M65xn-5tOSq",
        "outputId": "0b91c687-8d48-4dea-9aae-3f7775b25e77"
      },
      "execution_count": null,
      "outputs": [
        {
          "output_type": "execute_result",
          "data": {
            "text/plain": [
              "tensor([1, 2, 3])"
            ]
          },
          "metadata": {},
          "execution_count": 42
        }
      ]
    },
    {
      "cell_type": "code",
      "source": [
        "# substract 10\n",
        "tensor - 10"
      ],
      "metadata": {
        "colab": {
          "base_uri": "https://localhost:8080/"
        },
        "id": "YmFM6GcqtUMn",
        "outputId": "460b8843-5b20-4eba-f1e2-d051e293cccd"
      },
      "execution_count": null,
      "outputs": [
        {
          "output_type": "execute_result",
          "data": {
            "text/plain": [
              "tensor([-9, -8, -7])"
            ]
          },
          "metadata": {},
          "execution_count": 43
        }
      ]
    },
    {
      "cell_type": "code",
      "source": [
        "# try out PyTorch in-built functions \n",
        "torch.mul(tensor ,10)"
      ],
      "metadata": {
        "colab": {
          "base_uri": "https://localhost:8080/"
        },
        "id": "rWDrUxmJtiTO",
        "outputId": "521b011c-06a4-43cd-9630-757a345b9eef"
      },
      "execution_count": null,
      "outputs": [
        {
          "output_type": "execute_result",
          "data": {
            "text/plain": [
              "tensor([10, 20, 30])"
            ]
          },
          "metadata": {},
          "execution_count": 44
        }
      ]
    },
    {
      "cell_type": "code",
      "source": [
        "torch.add(tensor , 10)"
      ],
      "metadata": {
        "colab": {
          "base_uri": "https://localhost:8080/"
        },
        "id": "N3ZuTohrtzwS",
        "outputId": "bca5a50f-6fda-42c7-ce53-9acc8fa672e4"
      },
      "execution_count": null,
      "outputs": [
        {
          "output_type": "execute_result",
          "data": {
            "text/plain": [
              "tensor([11, 12, 13])"
            ]
          },
          "metadata": {},
          "execution_count": 45
        }
      ]
    },
    {
      "cell_type": "markdown",
      "source": [
        "### Matrix multiplication \n",
        "\n",
        "Two main ways of preforming mltiplication in neural networks and deep learning :\n",
        "1. Element-wise multiplication\n",
        "2. Matrix multiplication ( dot product )"
      ],
      "metadata": {
        "id": "sv8uTQX83bmV"
      }
    },
    {
      "cell_type": "code",
      "source": [
        "# Element-wise multiplication \n",
        "print (tensor , '*', tensor)\n",
        "print(f'Equals: {tensor * tensor}')"
      ],
      "metadata": {
        "id": "iaREQu64urvM",
        "colab": {
          "base_uri": "https://localhost:8080/"
        },
        "outputId": "e12d9a51-6c24-4523-d271-e57951192f79"
      },
      "execution_count": null,
      "outputs": [
        {
          "output_type": "stream",
          "name": "stdout",
          "text": [
            "tensor([1, 2, 3]) * tensor([1, 2, 3])\n",
            "Equals: tensor([1, 4, 9])\n"
          ]
        }
      ]
    },
    {
      "cell_type": "code",
      "source": [
        "# Matrix multiplication \n",
        "torch.matmul(tensor,tensor)"
      ],
      "metadata": {
        "colab": {
          "base_uri": "https://localhost:8080/"
        },
        "id": "c7nA2syr47Gs",
        "outputId": "91d503e6-0662-491e-a880-f183bd6bf96b"
      },
      "execution_count": null,
      "outputs": [
        {
          "output_type": "execute_result",
          "data": {
            "text/plain": [
              "tensor(14)"
            ]
          },
          "metadata": {},
          "execution_count": 47
        }
      ]
    },
    {
      "cell_type": "code",
      "source": [
        "# Matrix multiplication by hand \n",
        "%%time\n",
        "value = 0 \n",
        "for i in range(len(tensor)):\n",
        "  value += tensor[i] * tensor[i]\n",
        "print(value)  "
      ],
      "metadata": {
        "colab": {
          "base_uri": "https://localhost:8080/"
        },
        "id": "sp1_DlEB5XwK",
        "outputId": "2d389254-4949-431e-e483-8b9858ba7e21"
      },
      "execution_count": null,
      "outputs": [
        {
          "output_type": "stream",
          "name": "stdout",
          "text": [
            "tensor(14)\n",
            "CPU times: user 3.1 ms, sys: 0 ns, total: 3.1 ms\n",
            "Wall time: 6.82 ms\n"
          ]
        }
      ]
    },
    {
      "cell_type": "code",
      "source": [
        "%%time\n",
        "torch.matmul(tensor,tensor)  # 10 times faster "
      ],
      "metadata": {
        "colab": {
          "base_uri": "https://localhost:8080/"
        },
        "id": "i39NyVf462RH",
        "outputId": "d5740cfb-bc07-4c43-9542-ec36471c06d5"
      },
      "execution_count": null,
      "outputs": [
        {
          "output_type": "stream",
          "name": "stdout",
          "text": [
            "CPU times: user 74 µs, sys: 0 ns, total: 74 µs\n",
            "Wall time: 78.4 µs\n"
          ]
        },
        {
          "output_type": "execute_result",
          "data": {
            "text/plain": [
              "tensor(14)"
            ]
          },
          "metadata": {},
          "execution_count": 49
        }
      ]
    },
    {
      "cell_type": "markdown",
      "source": [
        "### One of the most common errors in deep learning (shape errors)"
      ],
      "metadata": {
        "id": "AddHOzLK-i8t"
      }
    },
    {
      "cell_type": "code",
      "source": [
        "# shapes for matrix multiplications \n",
        "tensor_A = torch.tensor([[1,2],\n",
        "                        [3,4],\n",
        "                        [5,6]])\n",
        "\n",
        "tensor_B = torch.tensor([[7,10],\n",
        "                         [8,11],\n",
        "                         [9,12]])\n",
        "torch.mm(tensor_A,tensor_B.T)  # torch.mm is the same as torch.matmul"
      ],
      "metadata": {
        "colab": {
          "base_uri": "https://localhost:8080/"
        },
        "id": "TxNibH5U7Wc8",
        "outputId": "c296aea7-62af-447f-cf0e-919ac000eb7f"
      },
      "execution_count": null,
      "outputs": [
        {
          "output_type": "execute_result",
          "data": {
            "text/plain": [
              "tensor([[ 27,  30,  33],\n",
              "        [ 61,  68,  75],\n",
              "        [ 95, 106, 117]])"
            ]
          },
          "metadata": {},
          "execution_count": 50
        }
      ]
    },
    {
      "cell_type": "markdown",
      "source": [
        "### Finding the min , max , mean , sum , ect (tensor aggregation)"
      ],
      "metadata": {
        "id": "w7IRu5EcDii9"
      }
    },
    {
      "cell_type": "code",
      "source": [
        "# create a tensor \n",
        "x = torch.arange(0,100,10)\n",
        "x ,x.dtype"
      ],
      "metadata": {
        "colab": {
          "base_uri": "https://localhost:8080/"
        },
        "id": "gMU64YXABHAy",
        "outputId": "e8f901af-00e8-4c91-9b8b-56488e6840bd"
      },
      "execution_count": null,
      "outputs": [
        {
          "output_type": "execute_result",
          "data": {
            "text/plain": [
              "(tensor([ 0, 10, 20, 30, 40, 50, 60, 70, 80, 90]), torch.int64)"
            ]
          },
          "metadata": {},
          "execution_count": 51
        }
      ]
    },
    {
      "cell_type": "code",
      "source": [
        "#find min \n",
        "torch.min(x) , x.min()"
      ],
      "metadata": {
        "colab": {
          "base_uri": "https://localhost:8080/"
        },
        "id": "UC10JUOMEAXP",
        "outputId": "c3f80708-4fe9-4df5-b13a-1a725679ca5e"
      },
      "execution_count": null,
      "outputs": [
        {
          "output_type": "execute_result",
          "data": {
            "text/plain": [
              "(tensor(0), tensor(0))"
            ]
          },
          "metadata": {},
          "execution_count": 52
        }
      ]
    },
    {
      "cell_type": "code",
      "source": [
        "# find max \n",
        "torch.max(x) , x.max()"
      ],
      "metadata": {
        "colab": {
          "base_uri": "https://localhost:8080/"
        },
        "id": "HcxDfmK7EGHH",
        "outputId": "ae65bd98-a05a-47a7-9344-31950c21f095"
      },
      "execution_count": null,
      "outputs": [
        {
          "output_type": "execute_result",
          "data": {
            "text/plain": [
              "(tensor(90), tensor(90))"
            ]
          },
          "metadata": {},
          "execution_count": 53
        }
      ]
    },
    {
      "cell_type": "code",
      "source": [
        "# find mean \n",
        "torch.mean(x.type(torch.float32)) "
      ],
      "metadata": {
        "colab": {
          "base_uri": "https://localhost:8080/"
        },
        "id": "0TJLT2z6EQ-m",
        "outputId": "ae913a80-ef9e-4566-8e30-7ef442e97c4a"
      },
      "execution_count": null,
      "outputs": [
        {
          "output_type": "execute_result",
          "data": {
            "text/plain": [
              "tensor(45.)"
            ]
          },
          "metadata": {},
          "execution_count": 54
        }
      ]
    },
    {
      "cell_type": "markdown",
      "source": [
        "**Note**: the `torch.mean()` function requires a tensor of float32 datatype to work"
      ],
      "metadata": {
        "id": "srtLGlO8FRYU"
      }
    },
    {
      "cell_type": "code",
      "source": [
        "x.type(torch.float32).mean()"
      ],
      "metadata": {
        "colab": {
          "base_uri": "https://localhost:8080/"
        },
        "id": "nYnlT664EXNp",
        "outputId": "b5c61b04-6e56-4b60-9a77-01bfc43150fa"
      },
      "execution_count": null,
      "outputs": [
        {
          "output_type": "execute_result",
          "data": {
            "text/plain": [
              "tensor(45.)"
            ]
          },
          "metadata": {},
          "execution_count": 55
        }
      ]
    },
    {
      "cell_type": "code",
      "source": [
        "# find the sum \n",
        "torch.sum(x) , x.sum()"
      ],
      "metadata": {
        "colab": {
          "base_uri": "https://localhost:8080/"
        },
        "id": "wzrYR-3PFM4d",
        "outputId": "dcd41356-05aa-4376-c11c-8e7232cb5ab6"
      },
      "execution_count": null,
      "outputs": [
        {
          "output_type": "execute_result",
          "data": {
            "text/plain": [
              "(tensor(450), tensor(450))"
            ]
          },
          "metadata": {},
          "execution_count": 56
        }
      ]
    },
    {
      "cell_type": "markdown",
      "source": [
        "### Finding the positional min and max \n"
      ],
      "metadata": {
        "id": "1pUPBw9CJz4S"
      }
    },
    {
      "cell_type": "code",
      "source": [
        "# find the position in tensor that has the minmum value with argmin() --> returens index postion of taarget tensor where minmum value \n",
        "x.argmin() \n",
        " "
      ],
      "metadata": {
        "colab": {
          "base_uri": "https://localhost:8080/"
        },
        "id": "O7_hP537Frpz",
        "outputId": "0ed6aa14-076a-4512-988f-dafb6bf23cf2"
      },
      "execution_count": null,
      "outputs": [
        {
          "output_type": "execute_result",
          "data": {
            "text/plain": [
              "tensor(0)"
            ]
          },
          "metadata": {},
          "execution_count": 57
        }
      ]
    },
    {
      "cell_type": "code",
      "source": [
        "# find the argmax()\n",
        "x.argmax()\n",
        "x[9]"
      ],
      "metadata": {
        "colab": {
          "base_uri": "https://localhost:8080/"
        },
        "id": "BZiDsCYDKCmI",
        "outputId": "02f40bc8-38b1-4c05-b573-3579c5f2098c"
      },
      "execution_count": null,
      "outputs": [
        {
          "output_type": "execute_result",
          "data": {
            "text/plain": [
              "tensor(90)"
            ]
          },
          "metadata": {},
          "execution_count": 58
        }
      ]
    },
    {
      "cell_type": "markdown",
      "source": [
        "### Reshaping , stacking , squeezing and unsqueezing tensors \n",
        "* Reshaping - reshapes an input tensor to a defined shape \n",
        "* View - Return a view of an input tensor of certain shape BUT keep the same memory as the orignial tensor \n",
        "* Stacking - combine multiple tensors on top of each other (vstack) or side by side (hstack)\n",
        "* Squeeze - removes all `1` dimenstions from a tensor \n",
        "* Unsqueezed - add a `1` dimension to a target tensor \n",
        "* Permute - return a view of the input with dimensions permuted (swapped) in a certain way  "
      ],
      "metadata": {
        "id": "DSvm6ZmrMG8A"
      }
    },
    {
      "cell_type": "code",
      "source": [
        "# let's creat a tensor \n",
        "import torch \n",
        "x = torch.arange(1.,10.)\n",
        "x , x.shape"
      ],
      "metadata": {
        "colab": {
          "base_uri": "https://localhost:8080/"
        },
        "id": "7VHMIh6OKo64",
        "outputId": "cd4f4864-e4b3-46b6-af89-b51cdd3de506"
      },
      "execution_count": null,
      "outputs": [
        {
          "output_type": "execute_result",
          "data": {
            "text/plain": [
              "(tensor([1., 2., 3., 4., 5., 6., 7., 8., 9.]), torch.Size([9]))"
            ]
          },
          "metadata": {},
          "execution_count": 59
        }
      ]
    },
    {
      "cell_type": "code",
      "source": [
        "# add extra dimention \n",
        "x_reshaped = x.reshape(1,9)\n",
        "x_reshaped , x_reshaped.shape "
      ],
      "metadata": {
        "colab": {
          "base_uri": "https://localhost:8080/"
        },
        "id": "KiP157ZiN7YJ",
        "outputId": "55cb95f0-7662-4ae8-9559-5339889e5d18"
      },
      "execution_count": null,
      "outputs": [
        {
          "output_type": "execute_result",
          "data": {
            "text/plain": [
              "(tensor([[1., 2., 3., 4., 5., 6., 7., 8., 9.]]), torch.Size([1, 9]))"
            ]
          },
          "metadata": {},
          "execution_count": 60
        }
      ]
    },
    {
      "cell_type": "code",
      "source": [
        "x_reshaped = x.reshape(9,1)\n",
        "x_reshaped , x_reshaped.shape "
      ],
      "metadata": {
        "colab": {
          "base_uri": "https://localhost:8080/"
        },
        "id": "48XXX-SNOQye",
        "outputId": "bc9c2ce3-d31c-456e-be3f-84d94dead950"
      },
      "execution_count": null,
      "outputs": [
        {
          "output_type": "execute_result",
          "data": {
            "text/plain": [
              "(tensor([[1.],\n",
              "         [2.],\n",
              "         [3.],\n",
              "         [4.],\n",
              "         [5.],\n",
              "         [6.],\n",
              "         [7.],\n",
              "         [8.],\n",
              "         [9.]]), torch.Size([9, 1]))"
            ]
          },
          "metadata": {},
          "execution_count": 61
        }
      ]
    },
    {
      "cell_type": "code",
      "source": [
        "# change the view \n",
        "z = x.view(1,9)\n",
        "z , z.shape"
      ],
      "metadata": {
        "colab": {
          "base_uri": "https://localhost:8080/"
        },
        "id": "HK-7tuoMO-kb",
        "outputId": "055881f1-7717-4a86-f370-521272b097f8"
      },
      "execution_count": null,
      "outputs": [
        {
          "output_type": "execute_result",
          "data": {
            "text/plain": [
              "(tensor([[1., 2., 3., 4., 5., 6., 7., 8., 9.]]), torch.Size([1, 9]))"
            ]
          },
          "metadata": {},
          "execution_count": 62
        }
      ]
    },
    {
      "cell_type": "code",
      "source": [
        "# changing z changing x (because a view of a tensor shares the same memory as the orginal tensor )\n",
        "z[:,0] = 5\n",
        "z , x "
      ],
      "metadata": {
        "colab": {
          "base_uri": "https://localhost:8080/"
        },
        "id": "Dby9tiU5PTnm",
        "outputId": "8e22357f-8f22-4b84-a855-2036f3c3bb73"
      },
      "execution_count": null,
      "outputs": [
        {
          "output_type": "execute_result",
          "data": {
            "text/plain": [
              "(tensor([[5., 2., 3., 4., 5., 6., 7., 8., 9.]]),\n",
              " tensor([5., 2., 3., 4., 5., 6., 7., 8., 9.]))"
            ]
          },
          "metadata": {},
          "execution_count": 63
        }
      ]
    },
    {
      "cell_type": "code",
      "source": [
        "# Stack tensors on top of each other \n",
        "x_stacked = torch.stack([x,x,x,x], dim=0)\n",
        "x_stacked"
      ],
      "metadata": {
        "colab": {
          "base_uri": "https://localhost:8080/"
        },
        "id": "ZRKwJlYmP73D",
        "outputId": "c852d5a2-00b2-47a3-faa2-a97f14758764"
      },
      "execution_count": null,
      "outputs": [
        {
          "output_type": "execute_result",
          "data": {
            "text/plain": [
              "tensor([[5., 2., 3., 4., 5., 6., 7., 8., 9.],\n",
              "        [5., 2., 3., 4., 5., 6., 7., 8., 9.],\n",
              "        [5., 2., 3., 4., 5., 6., 7., 8., 9.],\n",
              "        [5., 2., 3., 4., 5., 6., 7., 8., 9.]])"
            ]
          },
          "metadata": {},
          "execution_count": 64
        }
      ]
    },
    {
      "cell_type": "code",
      "source": [
        "x_stacked = torch.stack([x,x,x,x], dim=1)\n",
        "x_stacked"
      ],
      "metadata": {
        "colab": {
          "base_uri": "https://localhost:8080/"
        },
        "id": "jlrFqKDhQG4K",
        "outputId": "4eced706-ba5c-4f43-bf3d-60d479de0908"
      },
      "execution_count": null,
      "outputs": [
        {
          "output_type": "execute_result",
          "data": {
            "text/plain": [
              "tensor([[5., 5., 5., 5.],\n",
              "        [2., 2., 2., 2.],\n",
              "        [3., 3., 3., 3.],\n",
              "        [4., 4., 4., 4.],\n",
              "        [5., 5., 5., 5.],\n",
              "        [6., 6., 6., 6.],\n",
              "        [7., 7., 7., 7.],\n",
              "        [8., 8., 8., 8.],\n",
              "        [9., 9., 9., 9.]])"
            ]
          },
          "metadata": {},
          "execution_count": 65
        }
      ]
    },
    {
      "cell_type": "code",
      "source": [
        "torch.vstack((x,x))"
      ],
      "metadata": {
        "colab": {
          "base_uri": "https://localhost:8080/"
        },
        "id": "5AiWF-PNRVf0",
        "outputId": "26553cf6-aae9-44ce-fdf9-c58231f6d187"
      },
      "execution_count": null,
      "outputs": [
        {
          "output_type": "execute_result",
          "data": {
            "text/plain": [
              "tensor([[5., 2., 3., 4., 5., 6., 7., 8., 9.],\n",
              "        [5., 2., 3., 4., 5., 6., 7., 8., 9.]])"
            ]
          },
          "metadata": {},
          "execution_count": 66
        }
      ]
    },
    {
      "cell_type": "code",
      "source": [
        "torch.hstack((x,x))"
      ],
      "metadata": {
        "colab": {
          "base_uri": "https://localhost:8080/"
        },
        "id": "iTJkYVp2SL75",
        "outputId": "52936c4c-a378-4271-c893-d4bbd1eb7a49"
      },
      "execution_count": null,
      "outputs": [
        {
          "output_type": "execute_result",
          "data": {
            "text/plain": [
              "tensor([5., 2., 3., 4., 5., 6., 7., 8., 9., 5., 2., 3., 4., 5., 6., 7., 8., 9.])"
            ]
          },
          "metadata": {},
          "execution_count": 67
        }
      ]
    },
    {
      "cell_type": "code",
      "source": [
        "# torch.squeeze() - removes all single dimensions from a target tensor \n",
        "\n",
        "print(f\"Previous tensor: {x_reshaped}\")\n",
        "print(f\"Previous shape: {x_reshaped.shape}\")\n",
        "\n",
        "# Remove extra dimension from x_reshaped\n",
        "x_squeezed = x_reshaped.squeeze()\n",
        "print(f\"\\nNew tensor: {x_squeezed}\")\n",
        "print(f\"New shape: {x_squeezed.shape}\")"
      ],
      "metadata": {
        "colab": {
          "base_uri": "https://localhost:8080/"
        },
        "id": "CVvqS0lYSQf9",
        "outputId": "dc6e3aa8-0b60-4bfc-a315-2c2d20c39822"
      },
      "execution_count": null,
      "outputs": [
        {
          "output_type": "stream",
          "name": "stdout",
          "text": [
            "Previous tensor: tensor([[5.],\n",
            "        [2.],\n",
            "        [3.],\n",
            "        [4.],\n",
            "        [5.],\n",
            "        [6.],\n",
            "        [7.],\n",
            "        [8.],\n",
            "        [9.]])\n",
            "Previous shape: torch.Size([9, 1])\n",
            "\n",
            "New tensor: tensor([5., 2., 3., 4., 5., 6., 7., 8., 9.])\n",
            "New shape: torch.Size([9])\n"
          ]
        }
      ]
    },
    {
      "cell_type": "code",
      "source": [
        "x_reshaped"
      ],
      "metadata": {
        "colab": {
          "base_uri": "https://localhost:8080/"
        },
        "id": "Jifb2D9ETZZZ",
        "outputId": "c0280789-0cf2-4efb-9004-c8e5e03ac96f"
      },
      "execution_count": null,
      "outputs": [
        {
          "output_type": "execute_result",
          "data": {
            "text/plain": [
              "tensor([[5.],\n",
              "        [2.],\n",
              "        [3.],\n",
              "        [4.],\n",
              "        [5.],\n",
              "        [6.],\n",
              "        [7.],\n",
              "        [8.],\n",
              "        [9.]])"
            ]
          },
          "metadata": {},
          "execution_count": 69
        }
      ]
    },
    {
      "cell_type": "code",
      "source": [
        "x_reshaped.squeeze()"
      ],
      "metadata": {
        "colab": {
          "base_uri": "https://localhost:8080/"
        },
        "id": "zjNe0-WVVeIV",
        "outputId": "22ff0694-e1e0-4c35-e596-03c919999fc5"
      },
      "execution_count": null,
      "outputs": [
        {
          "output_type": "execute_result",
          "data": {
            "text/plain": [
              "tensor([5., 2., 3., 4., 5., 6., 7., 8., 9.])"
            ]
          },
          "metadata": {},
          "execution_count": 70
        }
      ]
    },
    {
      "cell_type": "code",
      "source": [
        "x_reshaped.shape"
      ],
      "metadata": {
        "colab": {
          "base_uri": "https://localhost:8080/"
        },
        "id": "WUgiLflOViSR",
        "outputId": "dc059557-3472-4881-b5b1-3abeb11a6dcc"
      },
      "execution_count": null,
      "outputs": [
        {
          "output_type": "execute_result",
          "data": {
            "text/plain": [
              "torch.Size([9, 1])"
            ]
          },
          "metadata": {},
          "execution_count": 71
        }
      ]
    },
    {
      "cell_type": "code",
      "source": [
        "x_reshaped.squeeze().shape"
      ],
      "metadata": {
        "colab": {
          "base_uri": "https://localhost:8080/"
        },
        "id": "GUuzP0uAVyPk",
        "outputId": "3c13d4ce-1f1c-43d8-cb53-3e6a22396ec8"
      },
      "execution_count": null,
      "outputs": [
        {
          "output_type": "execute_result",
          "data": {
            "text/plain": [
              "torch.Size([9])"
            ]
          },
          "metadata": {},
          "execution_count": 72
        }
      ]
    },
    {
      "cell_type": "code",
      "source": [
        "# torch.unsqueeze() adds a single dimension to a target tensor at a specific dim \n",
        "print(f\"Previous tensor: {x_squeezed}\")\n",
        "print(f\"Previous shape: {x_squeezed.shape}\")\n",
        "\n",
        "## Add an extra dimension with unsqueeze\n",
        "x_unsqueezed = x_squeezed.unsqueeze(dim=0)\n",
        "print(f\"\\nNew tensor: {x_unsqueezed}\")\n",
        "print(f\"New shape: {x_unsqueezed.shape}\")"
      ],
      "metadata": {
        "colab": {
          "base_uri": "https://localhost:8080/"
        },
        "id": "fhmpu4uyV2vS",
        "outputId": "1549ce16-3ad0-4558-f223-878ae7dbf64b"
      },
      "execution_count": null,
      "outputs": [
        {
          "output_type": "stream",
          "name": "stdout",
          "text": [
            "Previous tensor: tensor([5., 2., 3., 4., 5., 6., 7., 8., 9.])\n",
            "Previous shape: torch.Size([9])\n",
            "\n",
            "New tensor: tensor([[5., 2., 3., 4., 5., 6., 7., 8., 9.]])\n",
            "New shape: torch.Size([1, 9])\n"
          ]
        }
      ]
    },
    {
      "cell_type": "code",
      "source": [
        "print(f\"Previous tensor: {x_squeezed}\")\n",
        "print(f\"Previous shape: {x_squeezed.shape}\")\n",
        "\n",
        "## Add an extra dimension with unsqueeze\n",
        "x_unsqueezed = x_squeezed.unsqueeze(dim=1)\n",
        "print(f\"\\nNew tensor: {x_unsqueezed}\")\n",
        "print(f\"New shape: {x_unsqueezed.shape}\")"
      ],
      "metadata": {
        "colab": {
          "base_uri": "https://localhost:8080/"
        },
        "id": "fsb992jPXgIs",
        "outputId": "0338d034-b05a-4224-df9a-0170b4e5fa9c"
      },
      "execution_count": null,
      "outputs": [
        {
          "output_type": "stream",
          "name": "stdout",
          "text": [
            "Previous tensor: tensor([5., 2., 3., 4., 5., 6., 7., 8., 9.])\n",
            "Previous shape: torch.Size([9])\n",
            "\n",
            "New tensor: tensor([[5.],\n",
            "        [2.],\n",
            "        [3.],\n",
            "        [4.],\n",
            "        [5.],\n",
            "        [6.],\n",
            "        [7.],\n",
            "        [8.],\n",
            "        [9.]])\n",
            "New shape: torch.Size([9, 1])\n"
          ]
        }
      ]
    },
    {
      "cell_type": "code",
      "source": [
        "# torch.permute - rearranges the dimensions of a target tensor in a spacified order \n",
        "\n",
        "# Create tensor with specific shape\n",
        "x_original = torch.rand(size=(224, 224, 3))\n",
        "\n",
        "# Permute the original tensor to rearrange the axis order\n",
        "x_permuted = x_original.permute(2, 0, 1) # shifts axis 0->1, 1->2, 2->0\n",
        "\n",
        "print(f\"Previous shape: {x_original.shape}\")\n",
        "print(f\"New shape: {x_permuted.shape}\")"
      ],
      "metadata": {
        "colab": {
          "base_uri": "https://localhost:8080/"
        },
        "id": "RHsJgnytXt2v",
        "outputId": "8c6fcb9a-0dc5-4623-e051-e213de432493"
      },
      "execution_count": null,
      "outputs": [
        {
          "output_type": "stream",
          "name": "stdout",
          "text": [
            "Previous shape: torch.Size([224, 224, 3])\n",
            "New shape: torch.Size([3, 224, 224])\n"
          ]
        }
      ]
    },
    {
      "cell_type": "code",
      "source": [
        "x_original"
      ],
      "metadata": {
        "colab": {
          "base_uri": "https://localhost:8080/"
        },
        "id": "cPFs56-2ZDit",
        "outputId": "706c1b6f-158c-4c18-ec89-87388edfe5c0"
      },
      "execution_count": null,
      "outputs": [
        {
          "output_type": "execute_result",
          "data": {
            "text/plain": [
              "tensor([[[0.9383, 0.5692, 0.0982],\n",
              "         [0.0229, 0.8309, 0.8487],\n",
              "         [0.9559, 0.5347, 0.9741],\n",
              "         ...,\n",
              "         [0.5504, 0.2456, 0.3848],\n",
              "         [0.7166, 0.7412, 0.9754],\n",
              "         [0.4785, 0.9636, 0.6963]],\n",
              "\n",
              "        [[0.2128, 0.1831, 0.2395],\n",
              "         [0.9480, 0.0922, 0.7574],\n",
              "         [0.4657, 0.0414, 0.2196],\n",
              "         ...,\n",
              "         [0.4141, 0.1514, 0.1432],\n",
              "         [0.0096, 0.4627, 0.6185],\n",
              "         [0.3633, 0.1041, 0.2106]],\n",
              "\n",
              "        [[0.9177, 0.7738, 0.6110],\n",
              "         [0.7315, 0.9534, 0.1710],\n",
              "         [0.3329, 0.8056, 0.8893],\n",
              "         ...,\n",
              "         [0.1953, 0.4118, 0.0387],\n",
              "         [0.3189, 0.9079, 0.6050],\n",
              "         [0.5374, 0.7057, 0.6278]],\n",
              "\n",
              "        ...,\n",
              "\n",
              "        [[0.5014, 0.0104, 0.5453],\n",
              "         [0.1851, 0.2061, 0.8929],\n",
              "         [0.4114, 0.2451, 0.3545],\n",
              "         ...,\n",
              "         [0.1294, 0.9099, 0.4962],\n",
              "         [0.6956, 0.3028, 0.2998],\n",
              "         [0.2592, 0.5346, 0.1652]],\n",
              "\n",
              "        [[0.0140, 0.3512, 0.2725],\n",
              "         [0.1519, 0.1136, 0.0702],\n",
              "         [0.6447, 0.1440, 0.7113],\n",
              "         ...,\n",
              "         [0.7847, 0.1665, 0.0656],\n",
              "         [0.3775, 0.7192, 0.9196],\n",
              "         [0.3718, 0.6731, 0.1947]],\n",
              "\n",
              "        [[0.5447, 0.6628, 0.4722],\n",
              "         [0.8384, 0.9876, 0.1660],\n",
              "         [0.5781, 0.3848, 0.2279],\n",
              "         ...,\n",
              "         [0.6228, 0.7070, 0.0511],\n",
              "         [0.9388, 0.0444, 0.0314],\n",
              "         [0.9767, 0.8539, 0.8465]]])"
            ]
          },
          "metadata": {},
          "execution_count": 76
        }
      ]
    },
    {
      "cell_type": "code",
      "source": [
        "x_original[0,0,0] = 0.235689"
      ],
      "metadata": {
        "id": "5FcTUQzyZds1"
      },
      "execution_count": null,
      "outputs": []
    },
    {
      "cell_type": "code",
      "source": [
        "x_original[0,0,0], x_permuted[0,0,0]"
      ],
      "metadata": {
        "colab": {
          "base_uri": "https://localhost:8080/"
        },
        "id": "eNPTbtQOZkc1",
        "outputId": "d3945ac7-30a4-4ea8-9eff-4ed480585c0e"
      },
      "execution_count": null,
      "outputs": [
        {
          "output_type": "execute_result",
          "data": {
            "text/plain": [
              "(tensor(0.2357), tensor(0.2357))"
            ]
          },
          "metadata": {},
          "execution_count": 78
        }
      ]
    },
    {
      "cell_type": "markdown",
      "source": [
        "### Indexing (selecting data from tensors)\n",
        "indexing with pytorch is similar to indexing with numpy "
      ],
      "metadata": {
        "id": "RcHjHyRzahWt"
      }
    },
    {
      "cell_type": "code",
      "source": [
        "# create a tensor \n",
        "import torch \n",
        "x = torch.arange(1,10).reshape(1,3,3)\n",
        "x , x.shape"
      ],
      "metadata": {
        "colab": {
          "base_uri": "https://localhost:8080/"
        },
        "id": "szwpsNEOaHHw",
        "outputId": "185229fa-24f9-478c-fade-6b77fd8fccc2"
      },
      "execution_count": null,
      "outputs": [
        {
          "output_type": "execute_result",
          "data": {
            "text/plain": [
              "(tensor([[[1, 2, 3],\n",
              "          [4, 5, 6],\n",
              "          [7, 8, 9]]]), torch.Size([1, 3, 3]))"
            ]
          },
          "metadata": {},
          "execution_count": 79
        }
      ]
    },
    {
      "cell_type": "code",
      "source": [
        "# let's index on our new tensor \n",
        "x[0]"
      ],
      "metadata": {
        "colab": {
          "base_uri": "https://localhost:8080/"
        },
        "id": "nYsKfnZTge2W",
        "outputId": "9d6b26f4-f24a-4755-cbb6-fb0e6647f74b"
      },
      "execution_count": null,
      "outputs": [
        {
          "output_type": "execute_result",
          "data": {
            "text/plain": [
              "tensor([[1, 2, 3],\n",
              "        [4, 5, 6],\n",
              "        [7, 8, 9]])"
            ]
          },
          "metadata": {},
          "execution_count": 80
        }
      ]
    },
    {
      "cell_type": "code",
      "source": [
        "# let's index on the middle bracket (dim = 1)\n",
        "x[0][0]"
      ],
      "metadata": {
        "colab": {
          "base_uri": "https://localhost:8080/"
        },
        "id": "w94DSC15gy_6",
        "outputId": "67a657bb-5f18-41c3-a28a-b937d79ae3cf"
      },
      "execution_count": null,
      "outputs": [
        {
          "output_type": "execute_result",
          "data": {
            "text/plain": [
              "tensor([1, 2, 3])"
            ]
          },
          "metadata": {},
          "execution_count": 81
        }
      ]
    },
    {
      "cell_type": "code",
      "source": [
        "x[0,0]"
      ],
      "metadata": {
        "colab": {
          "base_uri": "https://localhost:8080/"
        },
        "id": "Ji15_VE5hBxb",
        "outputId": "844a61a1-5cdf-458b-a3e2-548f78eebd45"
      },
      "execution_count": null,
      "outputs": [
        {
          "output_type": "execute_result",
          "data": {
            "text/plain": [
              "tensor([1, 2, 3])"
            ]
          },
          "metadata": {},
          "execution_count": 82
        }
      ]
    },
    {
      "cell_type": "code",
      "source": [
        "# let's index on the most inner bracket (last dimension)\n",
        "x[0][0][0]"
      ],
      "metadata": {
        "colab": {
          "base_uri": "https://localhost:8080/"
        },
        "id": "Re0I7arhhFFn",
        "outputId": "e49de850-a5a5-4734-a517-6ddea97b1070"
      },
      "execution_count": null,
      "outputs": [
        {
          "output_type": "execute_result",
          "data": {
            "text/plain": [
              "tensor(1)"
            ]
          },
          "metadata": {},
          "execution_count": 83
        }
      ]
    },
    {
      "cell_type": "code",
      "source": [
        "x[0][1][1]"
      ],
      "metadata": {
        "colab": {
          "base_uri": "https://localhost:8080/"
        },
        "id": "G6VuXe0ehRaG",
        "outputId": "ecb10274-a9a9-42ba-e1d6-f880c2f28355"
      },
      "execution_count": null,
      "outputs": [
        {
          "output_type": "execute_result",
          "data": {
            "text/plain": [
              "tensor(5)"
            ]
          },
          "metadata": {},
          "execution_count": 84
        }
      ]
    },
    {
      "cell_type": "code",
      "source": [
        "x[0][1][0]"
      ],
      "metadata": {
        "colab": {
          "base_uri": "https://localhost:8080/"
        },
        "id": "YMaqGbPQhdxd",
        "outputId": "cd8f61e7-dedd-4884-826d-6013495c0a30"
      },
      "execution_count": null,
      "outputs": [
        {
          "output_type": "execute_result",
          "data": {
            "text/plain": [
              "tensor(4)"
            ]
          },
          "metadata": {},
          "execution_count": 85
        }
      ]
    },
    {
      "cell_type": "code",
      "source": [
        "x[0][1][2]"
      ],
      "metadata": {
        "colab": {
          "base_uri": "https://localhost:8080/"
        },
        "id": "SYfrYzP4hdc6",
        "outputId": "a3cd0ea1-3b04-44a6-b8d5-e4fe7c8fcde8"
      },
      "execution_count": null,
      "outputs": [
        {
          "output_type": "execute_result",
          "data": {
            "text/plain": [
              "tensor(6)"
            ]
          },
          "metadata": {},
          "execution_count": 86
        }
      ]
    },
    {
      "cell_type": "code",
      "source": [
        "x[0][2][2]"
      ],
      "metadata": {
        "colab": {
          "base_uri": "https://localhost:8080/"
        },
        "id": "LqdeboWGhcrg",
        "outputId": "ec0fc39d-eabe-4089-f97c-2f8f90149b0f"
      },
      "execution_count": null,
      "outputs": [
        {
          "output_type": "execute_result",
          "data": {
            "text/plain": [
              "tensor(9)"
            ]
          },
          "metadata": {},
          "execution_count": 87
        }
      ]
    },
    {
      "cell_type": "code",
      "source": [
        "# you can use also use  \" : \" to select 'all' of a target dimension \n",
        "x[:,0]"
      ],
      "metadata": {
        "colab": {
          "base_uri": "https://localhost:8080/"
        },
        "id": "e6uZQ336iC7l",
        "outputId": "d90ca43b-0c83-44e5-970e-8368f88de9cf"
      },
      "execution_count": null,
      "outputs": [
        {
          "output_type": "execute_result",
          "data": {
            "text/plain": [
              "tensor([[1, 2, 3]])"
            ]
          },
          "metadata": {},
          "execution_count": 88
        }
      ]
    },
    {
      "cell_type": "code",
      "source": [
        "# get all values of 0th and 1th dimensions but only index 1 of 2nd dimension \n",
        "x[:, : ,1]"
      ],
      "metadata": {
        "colab": {
          "base_uri": "https://localhost:8080/"
        },
        "id": "tSREKJRliaO-",
        "outputId": "e18c585b-870c-470f-ca67-524b20f8d03d"
      },
      "execution_count": null,
      "outputs": [
        {
          "output_type": "execute_result",
          "data": {
            "text/plain": [
              "tensor([[2, 5, 8]])"
            ]
          },
          "metadata": {},
          "execution_count": 89
        }
      ]
    },
    {
      "cell_type": "code",
      "source": [
        "# get all values of 0 dimension but only the 1 index value of 1st and 2nd dimension \n",
        "x[:,1,1] "
      ],
      "metadata": {
        "colab": {
          "base_uri": "https://localhost:8080/"
        },
        "id": "GV2tSlSniq0l",
        "outputId": "442f970d-46e7-4ce5-939c-c3ca86172311"
      },
      "execution_count": null,
      "outputs": [
        {
          "output_type": "execute_result",
          "data": {
            "text/plain": [
              "tensor([5])"
            ]
          },
          "metadata": {},
          "execution_count": 90
        }
      ]
    },
    {
      "cell_type": "code",
      "source": [
        "# get index 0 of 0th and 1st dimension and all values of 2nd dimension \n",
        "x[0,0,:]"
      ],
      "metadata": {
        "colab": {
          "base_uri": "https://localhost:8080/"
        },
        "id": "GbJ8BlpFjHzw",
        "outputId": "683c04a3-2dc2-4424-8f96-d5b90eb9dae0"
      },
      "execution_count": null,
      "outputs": [
        {
          "output_type": "execute_result",
          "data": {
            "text/plain": [
              "tensor([1, 2, 3])"
            ]
          },
          "metadata": {},
          "execution_count": 91
        }
      ]
    },
    {
      "cell_type": "code",
      "source": [
        "x[0,2,2]"
      ],
      "metadata": {
        "colab": {
          "base_uri": "https://localhost:8080/"
        },
        "id": "At68xJkLj3kf",
        "outputId": "86d858fb-c6f3-45ce-ee47-f8d782280976"
      },
      "execution_count": null,
      "outputs": [
        {
          "output_type": "execute_result",
          "data": {
            "text/plain": [
              "tensor(9)"
            ]
          },
          "metadata": {},
          "execution_count": 92
        }
      ]
    },
    {
      "cell_type": "code",
      "source": [
        "x[:,:,2]"
      ],
      "metadata": {
        "colab": {
          "base_uri": "https://localhost:8080/"
        },
        "id": "7YWPEVxwkM6I",
        "outputId": "d6f950c0-2f4e-44b7-f29a-f4886f95ed6d"
      },
      "execution_count": null,
      "outputs": [
        {
          "output_type": "execute_result",
          "data": {
            "text/plain": [
              "tensor([[3, 6, 9]])"
            ]
          },
          "metadata": {},
          "execution_count": 93
        }
      ]
    },
    {
      "cell_type": "markdown",
      "source": [
        "![image.png](data:image/png;base64,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)"
      ],
      "metadata": {
        "id": "_fZyhXB4lQNF"
      }
    },
    {
      "cell_type": "markdown",
      "source": [
        "## PyTorch tensors & NumPy\n",
        "\n",
        "The two main methods you'll want to use for NumPy to PyTorch (and back again) are:\n",
        "\n",
        "* `torch.from_numpy(ndarray)` - NumPy array -> PyTorch tensor.\n",
        "* `torch.Tensor.numpy()` - PyTorch tensor -> NumPy array."
      ],
      "metadata": {
        "id": "wCQsHofElu-_"
      }
    },
    {
      "cell_type": "code",
      "source": [
        "# NumPy array to tensor \n",
        "import torch \n",
        "import numpy as np \n",
        "\n",
        "array =  np.arange(1.0,8.0)\n",
        "tensor = torch.from_numpy(array) # warning when converting from numpy -> pytorch , pytorch reflects numpy's default datatype of float 64 unless specified otherwise \n",
        "array , tensor "
      ],
      "metadata": {
        "colab": {
          "base_uri": "https://localhost:8080/"
        },
        "id": "YQvUTU2qkqO-",
        "outputId": "82792f8f-946b-4d80-9571-d95d8f5bb6b5"
      },
      "execution_count": null,
      "outputs": [
        {
          "output_type": "execute_result",
          "data": {
            "text/plain": [
              "(array([1., 2., 3., 4., 5., 6., 7.]),\n",
              " tensor([1., 2., 3., 4., 5., 6., 7.], dtype=torch.float64))"
            ]
          },
          "metadata": {},
          "execution_count": 94
        }
      ]
    },
    {
      "cell_type": "code",
      "source": [
        "array.dtype "
      ],
      "metadata": {
        "colab": {
          "base_uri": "https://localhost:8080/"
        },
        "id": "S1K36fkOnF6t",
        "outputId": "258ec290-fb36-432c-9249-47cee18b5d90"
      },
      "execution_count": null,
      "outputs": [
        {
          "output_type": "execute_result",
          "data": {
            "text/plain": [
              "dtype('float64')"
            ]
          },
          "metadata": {},
          "execution_count": 95
        }
      ]
    },
    {
      "cell_type": "code",
      "source": [
        "tensor.dtype"
      ],
      "metadata": {
        "colab": {
          "base_uri": "https://localhost:8080/"
        },
        "id": "M-VTq1Tqm2yv",
        "outputId": "a591c66b-95ab-4f39-d395-814f37ad149e"
      },
      "execution_count": null,
      "outputs": [
        {
          "output_type": "execute_result",
          "data": {
            "text/plain": [
              "torch.float64"
            ]
          },
          "metadata": {},
          "execution_count": 96
        }
      ]
    },
    {
      "cell_type": "code",
      "source": [
        "tensor = torch.from_numpy(array).type(torch.float32)\n",
        "tensor.dtype"
      ],
      "metadata": {
        "colab": {
          "base_uri": "https://localhost:8080/"
        },
        "id": "0G3egfgSnQDG",
        "outputId": "41e7cd26-2ed1-4747-f095-afcdb04dc90e"
      },
      "execution_count": null,
      "outputs": [
        {
          "output_type": "execute_result",
          "data": {
            "text/plain": [
              "torch.float32"
            ]
          },
          "metadata": {},
          "execution_count": 97
        }
      ]
    },
    {
      "cell_type": "code",
      "source": [
        "# change the value of the array , what will this do to `tensor` ?\n",
        "array = array + 1\n",
        "array , tensor  "
      ],
      "metadata": {
        "colab": {
          "base_uri": "https://localhost:8080/"
        },
        "id": "UR-LCQQzn6BT",
        "outputId": "9faf4142-3d3a-444e-93b3-2a33bea6207c"
      },
      "execution_count": null,
      "outputs": [
        {
          "output_type": "execute_result",
          "data": {
            "text/plain": [
              "(array([2., 3., 4., 5., 6., 7., 8.]), tensor([1., 2., 3., 4., 5., 6., 7.]))"
            ]
          },
          "metadata": {},
          "execution_count": 98
        }
      ]
    },
    {
      "cell_type": "code",
      "source": [
        "# tensor to numpy array \n",
        "tensor = torch.ones(7)\n",
        "numpy_tensor = tensor.numpy()\n",
        "tensor , numpy_tensor "
      ],
      "metadata": {
        "colab": {
          "base_uri": "https://localhost:8080/"
        },
        "id": "Y7Q4lixjoQ55",
        "outputId": "2f8361a0-952e-4552-b811-ca4de79a71f6"
      },
      "execution_count": null,
      "outputs": [
        {
          "output_type": "execute_result",
          "data": {
            "text/plain": [
              "(tensor([1., 1., 1., 1., 1., 1., 1.]),\n",
              " array([1., 1., 1., 1., 1., 1., 1.], dtype=float32))"
            ]
          },
          "metadata": {},
          "execution_count": 99
        }
      ]
    },
    {
      "cell_type": "code",
      "source": [
        "# change the tensor , what happens to numpy-tensor ?\n",
        "tensor = tensor + 1 \n",
        "tensor , numpy_tensor"
      ],
      "metadata": {
        "colab": {
          "base_uri": "https://localhost:8080/"
        },
        "id": "YlwVDnHJoyrQ",
        "outputId": "4e87595f-3982-47ea-bc77-ffa939df6522"
      },
      "execution_count": null,
      "outputs": [
        {
          "output_type": "execute_result",
          "data": {
            "text/plain": [
              "(tensor([2., 2., 2., 2., 2., 2., 2.]),\n",
              " array([1., 1., 1., 1., 1., 1., 1.], dtype=float32))"
            ]
          },
          "metadata": {},
          "execution_count": 100
        }
      ]
    },
    {
      "cell_type": "markdown",
      "source": [
        "### Reproducibility (trying to take the random out of random)\n",
        "\n",
        "`start with random numbers -> tensor operations -> try to make better (again and again and again)`\n"
      ],
      "metadata": {
        "id": "IGKfEbgcZo4L"
      }
    },
    {
      "cell_type": "code",
      "source": [
        "# create two random tensors\n",
        "import torch \n",
        "\n",
        "tensor_A = torch.rand(3,4)\n",
        "tensor_B = torch.rand(3,4)\n",
        "\n",
        "print(tensor_A)\n",
        "print(tensor_B)\n",
        "print(tensor_A == tensor_B )"
      ],
      "metadata": {
        "id": "ms57yEftpB9L",
        "colab": {
          "base_uri": "https://localhost:8080/"
        },
        "outputId": "b97ca499-da7c-4cd9-9997-288fa431d1ed"
      },
      "execution_count": null,
      "outputs": [
        {
          "output_type": "stream",
          "name": "stdout",
          "text": [
            "tensor([[0.1435, 0.9157, 0.4392, 0.1616],\n",
            "        [0.6863, 0.8518, 0.5992, 0.9959],\n",
            "        [0.2452, 0.5211, 0.4202, 0.5890]])\n",
            "tensor([[0.2220, 0.5106, 0.3260, 0.1283],\n",
            "        [0.8634, 0.2847, 0.9121, 0.1929],\n",
            "        [0.7334, 0.6368, 0.2042, 0.9810]])\n",
            "tensor([[False, False, False, False],\n",
            "        [False, False, False, False],\n",
            "        [False, False, False, False]])\n"
          ]
        }
      ]
    },
    {
      "cell_type": "code",
      "source": [
        "# let's make some random tensors but reproducable tensors \n",
        "import torch \n",
        "# set the random seed \n",
        "RANDOM_SEED = 42 \n",
        "torch.manual_seed(RANDOM_SEED)\n",
        "random_tensor_c = torch.rand(3,4)\n",
        "\n",
        "torch.manual_seed(RANDOM_SEED)\n",
        "random_tensor_d = torch.rand(3,4)\n",
        "\n",
        "print(random_tensor_c)\n",
        "print(random_tensor_d)\n",
        "print(random_tensor_c == random_tensor_d)"
      ],
      "metadata": {
        "colab": {
          "base_uri": "https://localhost:8080/"
        },
        "id": "mrdjsyBla5gk",
        "outputId": "4ab3a098-11e0-4a43-f882-daa962d3c99b"
      },
      "execution_count": null,
      "outputs": [
        {
          "output_type": "stream",
          "name": "stdout",
          "text": [
            "tensor([[0.8823, 0.9150, 0.3829, 0.9593],\n",
            "        [0.3904, 0.6009, 0.2566, 0.7936],\n",
            "        [0.9408, 0.1332, 0.9346, 0.5936]])\n",
            "tensor([[0.8823, 0.9150, 0.3829, 0.9593],\n",
            "        [0.3904, 0.6009, 0.2566, 0.7936],\n",
            "        [0.9408, 0.1332, 0.9346, 0.5936]])\n",
            "tensor([[True, True, True, True],\n",
            "        [True, True, True, True],\n",
            "        [True, True, True, True]])\n"
          ]
        }
      ]
    },
    {
      "cell_type": "markdown",
      "source": [
        "### Running tensors on GPUs (and making faster computations)"
      ],
      "metadata": {
        "id": "SoSqmjAsg_ba"
      }
    },
    {
      "cell_type": "code",
      "source": [
        "!nvidia-smi"
      ],
      "metadata": {
        "colab": {
          "base_uri": "https://localhost:8080/"
        },
        "id": "gp9Ju36Rcnhn",
        "outputId": "43e1a6c6-2b26-4452-c942-a683a5099649"
      },
      "execution_count": null,
      "outputs": [
        {
          "output_type": "stream",
          "name": "stdout",
          "text": [
            "Tue Jan 24 18:39:25 2023       \n",
            "+-----------------------------------------------------------------------------+\n",
            "| NVIDIA-SMI 510.47.03    Driver Version: 510.47.03    CUDA Version: 11.6     |\n",
            "|-------------------------------+----------------------+----------------------+\n",
            "| GPU  Name        Persistence-M| Bus-Id        Disp.A | Volatile Uncorr. ECC |\n",
            "| Fan  Temp  Perf  Pwr:Usage/Cap|         Memory-Usage | GPU-Util  Compute M. |\n",
            "|                               |                      |               MIG M. |\n",
            "|===============================+======================+======================|\n",
            "|   0  Tesla T4            Off  | 00000000:00:04.0 Off |                    0 |\n",
            "| N/A   71C    P0    33W /  70W |      0MiB / 15360MiB |      0%      Default |\n",
            "|                               |                      |                  N/A |\n",
            "+-------------------------------+----------------------+----------------------+\n",
            "                                                                               \n",
            "+-----------------------------------------------------------------------------+\n",
            "| Processes:                                                                  |\n",
            "|  GPU   GI   CI        PID   Type   Process name                  GPU Memory |\n",
            "|        ID   ID                                                   Usage      |\n",
            "|=============================================================================|\n",
            "|  No running processes found                                                 |\n",
            "+-----------------------------------------------------------------------------+\n"
          ]
        }
      ]
    },
    {
      "cell_type": "markdown",
      "source": [
        "### check for GPU access with PyTorch"
      ],
      "metadata": {
        "id": "uHrkrf1ajJ7R"
      }
    },
    {
      "cell_type": "code",
      "source": [
        "# check for gpu access by pytorch \n",
        "import torch \n",
        "torch.cuda.is_available()"
      ],
      "metadata": {
        "colab": {
          "base_uri": "https://localhost:8080/"
        },
        "id": "2BWWfTRYi7hf",
        "outputId": "b26393c9-40a8-41a9-cf6a-cd774287f762"
      },
      "execution_count": null,
      "outputs": [
        {
          "output_type": "execute_result",
          "data": {
            "text/plain": [
              "True"
            ]
          },
          "metadata": {},
          "execution_count": 2
        }
      ]
    },
    {
      "cell_type": "markdown",
      "source": [
        "Note: In PyTorch, it's best practice to write device agnostic code. This means code that'll run on CPU (always available) or GPU (if available)."
      ],
      "metadata": {
        "id": "WcUu0LP5lb97"
      }
    },
    {
      "cell_type": "code",
      "source": [
        "# setup device agnostic code \n",
        "\n",
        "device = \"cuda\" if torch.cuda.is_available() else \"cpu\"\n",
        "device"
      ],
      "metadata": {
        "colab": {
          "base_uri": "https://localhost:8080/",
          "height": 36
        },
        "id": "Ut97FwpQjsOt",
        "outputId": "005c90fb-1709-4b45-8cb6-8d34057df4a5"
      },
      "execution_count": null,
      "outputs": [
        {
          "output_type": "execute_result",
          "data": {
            "text/plain": [
              "'cuda'"
            ],
            "application/vnd.google.colaboratory.intrinsic+json": {
              "type": "string"
            }
          },
          "metadata": {},
          "execution_count": 3
        }
      ]
    },
    {
      "cell_type": "code",
      "source": [
        "# count the number of devices \n",
        "torch.cuda.device_count()"
      ],
      "metadata": {
        "colab": {
          "base_uri": "https://localhost:8080/"
        },
        "id": "g8wRPh-1kP9D",
        "outputId": "4c46fb04-a9f4-471f-d3c0-0837ba3408b5"
      },
      "execution_count": null,
      "outputs": [
        {
          "output_type": "execute_result",
          "data": {
            "text/plain": [
              "1"
            ]
          },
          "metadata": {},
          "execution_count": 4
        }
      ]
    },
    {
      "cell_type": "markdown",
      "source": [
        "### Putting tensors (and models) on the GPU\n",
        "\n",
        "You can put tensors (and models, we'll see this later) on a specific device by calling `to(device)` on them. Where `device` is the target device you'd like the tensor (or model) to go to.\n",
        "\n",
        "Why do this?\n",
        "\n",
        "GPUs offer far faster numerical computing than CPUs do and if a GPU isn't available, because of our `device agnostic code` (see above), it'll run on the CPU.\n",
        "\n",
        "Note: Putting a tensor on GPU using to(device) (e.g. some_tensor.to(device)) returns a copy of that tensor, e.g. the same tensor will be on CPU and GPU. To overwrite tensors, reassign them:\n",
        "\n",
        "`some_tensor = some_tensor.to(device)`\n",
        "\n",
        "Let's try creating a tensor and putting it on the GPU (if it's available)."
      ],
      "metadata": {
        "id": "5W7nL27Qm2m4"
      }
    },
    {
      "cell_type": "code",
      "source": [
        "# Create tensor (default on CPU)\n",
        "tensor = torch.tensor([1, 2, 3])\n",
        "\n",
        "# Tensor not on GPU\n",
        "print(tensor, tensor.device)\n",
        "\n",
        "# Move tensor to GPU (if available)\n",
        "tensor_on_gpu = tensor.to(device)\n",
        "tensor_on_gpu"
      ],
      "metadata": {
        "colab": {
          "base_uri": "https://localhost:8080/"
        },
        "id": "CCrGMqHelHZE",
        "outputId": "e491922d-1362-41fd-a5cd-a41d50b96e9d"
      },
      "execution_count": null,
      "outputs": [
        {
          "output_type": "stream",
          "name": "stdout",
          "text": [
            "tensor([1, 2, 3]) cpu\n"
          ]
        },
        {
          "output_type": "execute_result",
          "data": {
            "text/plain": [
              "tensor([1, 2, 3], device='cuda:0')"
            ]
          },
          "metadata": {},
          "execution_count": 5
        }
      ]
    },
    {
      "cell_type": "markdown",
      "source": [
        "### Moving tensors back to the CPU\n",
        "\n",
        "* if tensor is on GPU , you can't transform it to NumPy\n",
        "* to fix the GPU tensor with numpy issue , we can first set it to CPU "
      ],
      "metadata": {
        "id": "vBtV5duToys0"
      }
    },
    {
      "cell_type": "code",
      "source": [
        "# Instead, copy the tensor back to cpu\n",
        "tensor_back_on_cpu = tensor_on_gpu.cpu().numpy()\n",
        "tensor_back_on_cpu"
      ],
      "metadata": {
        "colab": {
          "base_uri": "https://localhost:8080/"
        },
        "id": "Z1HL4pZooMv9",
        "outputId": "7075cc71-c081-4f5c-8603-f68eb1cc8723"
      },
      "execution_count": null,
      "outputs": [
        {
          "output_type": "execute_result",
          "data": {
            "text/plain": [
              "array([1, 2, 3])"
            ]
          },
          "metadata": {},
          "execution_count": 6
        }
      ]
    },
    {
      "cell_type": "code",
      "source": [
        "# The above returns a copy of the GPU tensor in CPU memory so the original tensor is still on GPU.\n",
        "tensor_on_gpu"
      ],
      "metadata": {
        "colab": {
          "base_uri": "https://localhost:8080/"
        },
        "id": "6vQPmgyDqAJs",
        "outputId": "8d4bdf01-74f3-48c0-84b8-61d901922764"
      },
      "execution_count": null,
      "outputs": [
        {
          "output_type": "execute_result",
          "data": {
            "text/plain": [
              "tensor([1, 2, 3], device='cuda:0')"
            ]
          },
          "metadata": {},
          "execution_count": 8
        }
      ]
    },
    {
      "cell_type": "code",
      "source": [],
      "metadata": {
        "id": "U4xnu08rqOs0"
      },
      "execution_count": null,
      "outputs": []
    }
  ]
}